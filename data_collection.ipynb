{
 "cells": [
  {
   "metadata": {},
   "cell_type": "markdown",
   "source": [
    "# 数据收集\n",
    "\n",
    "有待收集的数据：\n",
    "\n",
    "- 中长期纯债基金：文章着重研究“中长期纯债基金”，并且剔除“中长期纯债基金”中的“摊余成本法债券基金”以及“定开型债券基金”\n",
    "    - 在IFinD基金查找页面添加筛选条件，筛选中长期纯债基金：\n",
    "        - `基金全称 不包含 定期开放` // 排除定开型债券基金\n",
    "        - `基金全称 不包含 持有期` // 排除持有期型债券基金（高杠杆）\n",
    "        - `基金全称 不包含 年期`\n",
    "    - 并且分别筛选 利率型、信用债、标准中长期\n",
    "- 基金季报中的重仓债券信息\n",
    "- 中债分段指数的日度收益序列和久期序列\n"
   ],
   "id": "3b1a7920636007ed"
  }
 ],
 "metadata": {
  "kernelspec": {
   "display_name": "Python 3",
   "language": "python",
   "name": "python3"
  },
  "language_info": {
   "codemirror_mode": {
    "name": "ipython",
    "version": 2
   },
   "file_extension": ".py",
   "mimetype": "text/x-python",
   "name": "python",
   "nbconvert_exporter": "python",
   "pygments_lexer": "ipython2",
   "version": "2.7.6"
  }
 },
 "nbformat": 4,
 "nbformat_minor": 5
}
