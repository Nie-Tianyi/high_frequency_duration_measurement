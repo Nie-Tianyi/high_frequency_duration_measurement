{
 "cells": [
  {
   "metadata": {},
   "cell_type": "markdown",
   "source": [
    "# 线性回归 计算 beta\n",
    "\n",
    "使用线性回归模型计算出基金的 beta 值，以此作为基金的个分段持仓比例，并且有以下改进：\n",
    "1. 使用逐步回归法筛选关键期限子段，降低共线性影响。**在逐步回归法筛选后，回补3年以内的短久期子段**。\n",
    "2. 设置杠杆上限为140%，下限为80%。\n",
    "3. 在40个交易日的滚动窗口基础上，增加最新一周数据的权重。\n",
    "4. 根据基金持仓风格（利率、信用、均衡），匹配相应的指数。\n",
    "\n",
    "总在收益率分别包含 总财富、总净价、总全价三个值，我们应该使用总财富收益率作为指数收益率"
   ],
   "id": "9921c440d76851a2"
  },
  {
   "metadata": {},
   "cell_type": "markdown",
   "source": [
    "# 首先排除基金持仓风格，计算基金的 beta 值\n",
    "\n",
    "- 利率债基：主要投资于利率债（如国债、政策性金融债、同业存单等），利率持仓超过70%。使用中债国开债指数族和存单指数族，因为这些指数更能反映利率债的收益特征。\n",
    "- 信用债基：主要投资于信用债（如企业债、中票、短融、非政策性金融债等），信用持仓超过70%。使用二永指数族（二级资本债和永续债）和信用债指数族，因为这些指数更能反映信用债的收益特征。\n",
    "\n",
    "由于没有开债指数族、存单指数族、二永指数族、信用债指数族的数据，我们使用全部基金的数据和简单的中债分段数据来计算 beta 值\n",
    "\n"
   ],
   "id": "91fb1fbf41e2dc5d"
  },
  {
   "metadata": {},
   "cell_type": "markdown",
   "source": [
    "# 计算二次凸优化\n",
    "\n",
    "我们的目标是找到一个线性组合，使得基金的回报率与中债分段指数的回报率之间的误差最小。"
   ],
   "id": "a91385d8ec55345b"
  },
  {
   "metadata": {
    "ExecuteTime": {
     "end_time": "2025-01-09T07:06:53.719078Z",
     "start_time": "2025-01-09T07:06:52.679303Z"
    }
   },
   "cell_type": "code",
   "source": [
    "import cvxpy as cp\n",
    "import numpy as np\n",
    "import pandas as pd\n",
    "import os\n",
    "import statsmodels.api as sm\n",
    "\n",
    "\n",
    "def calc_beta(X, y):\n",
    "    # 定义变量\n",
    "    n_features = X.shape[1]\n",
    "    coefficients = cp.Variable(n_features)\n",
    "\n",
    "    # 目标函数：最小二乘\n",
    "    objective = cp.Minimize(cp.sum_squares(X @ coefficients - y))\n",
    "\n",
    "    # 约束条件\n",
    "    constraints = [\n",
    "        coefficients >= 0,\n",
    "        cp.sum(coefficients) <= 1.4,\n",
    "        cp.sum(coefficients) >= 0.8,\n",
    "    ]\n",
    "\n",
    "    # 求解问题\n",
    "    problem = cp.Problem(objective, constraints)\n",
    "    problem.solve()\n",
    "\n",
    "    # 返回系数值\n",
    "    if problem.status == 'optimal':\n",
    "        return coefficients.value\n",
    "    else:\n",
    "        return np.nan * np.ones(n_features)  # 如果无解，返回 NaN"
   ],
   "id": "66b4e025e1adab20",
   "outputs": [],
   "execution_count": 1
  },
  {
   "metadata": {
    "ExecuteTime": {
     "end_time": "2025-01-09T07:06:54.909019Z",
     "start_time": "2025-01-09T07:06:54.906259Z"
    }
   },
   "cell_type": "code",
   "source": [
    "def stepwise_selection(X, y, initial_list=[], threshold_in=0.01, threshold_out=0.05, verbose=True):\n",
    "    included = list(initial_list)\n",
    "    while True:\n",
    "        changed = False\n",
    "        excluded = list(set(X.columns) - set(included))\n",
    "        new_pval = pd.Series(index=excluded)\n",
    "        for new_column in excluded:\n",
    "            model = sm.OLS(y, sm.add_constant(pd.DataFrame(X[included + [new_column]]))).fit()\n",
    "            new_pval[new_column] = model.pvalues[new_column]\n",
    "        best_pval = new_pval.min()\n",
    "        if best_pval < threshold_in:\n",
    "            best_feature = new_pval.idxmin()\n",
    "            included.append(best_feature)\n",
    "            changed = True\n",
    "            if verbose:\n",
    "                print('Add  {:30} with p-value {:.6}'.format(best_feature, best_pval))\n",
    "\n",
    "        model = sm.OLS(y, sm.add_constant(pd.DataFrame(X[included]))).fit()\n",
    "        pvalues = model.pvalues.iloc[1:]\n",
    "        worst_pval = pvalues.max()\n",
    "        if worst_pval > threshold_out:\n",
    "            changed = True\n",
    "            worst_feature = pvalues.idxmax()\n",
    "            included.remove(worst_feature)\n",
    "            if verbose:\n",
    "                print('Drop {:30} with p-value {:.6}'.format(worst_feature, worst_pval))\n",
    "        if not changed:\n",
    "            break\n",
    "    return included\n"
   ],
   "id": "4af6eea6009a07d0",
   "outputs": [],
   "execution_count": 2
  },
  {
   "metadata": {
    "ExecuteTime": {
     "end_time": "2025-01-09T07:07:00.232030Z",
     "start_time": "2025-01-09T07:06:58.260748Z"
    }
   },
   "cell_type": "code",
   "source": [
    "from tqdm import tqdm\n",
    "\n",
    "# 文件路径\n",
    "input_dist = 'data/combined/'\n",
    "output_dist = 'data/eda_beta/'\n",
    "\n",
    "print(\"reading data, loading into cache\")\n",
    "cache = {}\n",
    "for file_name in tqdm(os.listdir(input_dist)):\n",
    "    df = pd.read_csv(input_dist + file_name)\n",
    "    cache[file_name] = df\n",
    "\n",
    "if not os.path.exists(output_dist):\n",
    "    os.makedirs(output_dist)\n",
    "\n",
    "\n",
    "def process(file_name):\n",
    "    # 读取数据\n",
    "    df = cache[file_name]\n",
    "    df = df.dropna()  # 去除空值\n",
    "\n",
    "    df = df.copy()\n",
    "\n",
    "    if df.empty:\n",
    "        print(f\"empty dataframe: {file_name}\")\n",
    "        return  # 空数据直接返回\n",
    "\n",
    "    # 初始化 beta 列\n",
    "    beta_columns = ['beta_1年以下', 'beta_1-3年', 'beta_3-5年', 'beta_5-7年', 'beta_7-10年', 'beta_10年以上']\n",
    "    for col in beta_columns:\n",
    "        df.loc[:, col] = np.nan  # 初始化为 NaN\n",
    "\n",
    "    # 滚动计算 beta\n",
    "    for i in range(40, df.shape[0]):\n",
    "        X = df[['1年以下', '1-3年', '3-5年', '5-7年', '7-10年', '10年以上']].values[i - 40:i]\n",
    "        y = df['回报'].values[i - 40:i]\n",
    "        date = df['日期'].values[i]\n",
    "\n",
    "        # 把最后五条数据复制三次添加到最后\n",
    "        X = np.vstack([X, [X[-1]] * 3])  # 使用 np.vstack 保持二维结构\n",
    "        y = np.append(y, [y[-5]] * 3)\n",
    "\n",
    "        # 转换为 DataFrame 以便进行逐步回归\n",
    "        X_df = pd.DataFrame(X, columns=['1年以下', '1-3年', '3-5年', '5-7年', '7-10年', '10年以上'])\n",
    "        y_series = pd.Series(y)\n",
    "\n",
    "        # 逐步回归选择变量\n",
    "        selected_variables = stepwise_selection(X_df, y_series, verbose=False)\n",
    "        if '1年以下' not in selected_variables:\n",
    "            selected_variables.append('1年以下')\n",
    "        if '1-3年' not in selected_variables:\n",
    "            selected_variables.append('1-3年')\n",
    "\n",
    "        # 仅使用选定的变量进行 beta 计算\n",
    "        X_selected = X_df[selected_variables].values\n",
    "\n",
    "        # 计算 beta\n",
    "        coefficients = calc_beta(X_selected, y)\n",
    "\n",
    "        # 将 coefficients 扩展为 6 个值，未选中的变量系数设为 0\n",
    "        full_coefficients = np.zeros(6)  # 初始化为 0\n",
    "        for idx, col in enumerate(['1年以下', '1-3年', '3-5年', '5-7年', '7-10年', '10年以上']):\n",
    "            if col in selected_variables:\n",
    "                full_coefficients[idx] = coefficients[selected_variables.index(col)]\n",
    "\n",
    "        # 将结果赋值到对应行\n",
    "        df.loc[df['日期'] == date, beta_columns] = full_coefficients\n",
    "\n",
    "    # 保存结果\n",
    "    df.to_csv(output_dist + file_name, index=False)"
   ],
   "id": "d8b47a3dcf1b8f7e",
   "outputs": [
    {
     "name": "stdout",
     "output_type": "stream",
     "text": [
      "reading data, loading into cache\n"
     ]
    },
    {
     "name": "stderr",
     "output_type": "stream",
     "text": [
      "100%|██████████| 1850/1850 [00:01<00:00, 949.11it/s] \n"
     ]
    }
   ],
   "execution_count": 3
  },
  {
   "metadata": {
    "ExecuteTime": {
     "end_time": "2025-01-09T11:20:03.107131Z",
     "start_time": "2025-01-09T07:22:33.391854Z"
    }
   },
   "cell_type": "code",
   "source": [
    "exclude_list = [\n",
    "    '022015.OF.csv',  # 这个文件内只有一条数据，丢弃\n",
    "    '022089.OF.csv',  # 这个文件内只有一条数据，丢弃\n",
    "]  # 除了一半卡死了，记录会引起异常的文件\n",
    "exclude_count = 0  # 记录已经处理过的文件的数量\n",
    "\n",
    "for file_name in tqdm(cache.keys()):\n",
    "    if file_name in exclude_list:  # 跳过不需要处理的文件\n",
    "        continue\n",
    "\n",
    "    if exclude_count < 0:  # 跳过已经处理过的文件\n",
    "        exclude_count += 1\n",
    "        continue\n",
    "\n",
    "    process(file_name)"
   ],
   "id": "7f67781ff1976cfa",
   "outputs": [
    {
     "name": "stderr",
     "output_type": "stream",
     "text": [
      " 37%|███▋      | 683/1850 [1:29:15<2:40:16,  8.24s/it]"
     ]
    },
    {
     "name": "stdout",
     "output_type": "stream",
     "text": [
      "empty dataframe: 021794.OF.csv\n"
     ]
    },
    {
     "name": "stderr",
     "output_type": "stream",
     "text": [
      " 84%|████████▍ | 1556/1850 [3:22:45<50:58, 10.40s/it]  "
     ]
    },
    {
     "name": "stdout",
     "output_type": "stream",
     "text": [
      "empty dataframe: 022014.OF.csv\n"
     ]
    },
    {
     "name": "stderr",
     "output_type": "stream",
     "text": [
      " 90%|████████▉ | 1664/1850 [3:36:28<27:56,  9.01s/it]"
     ]
    },
    {
     "name": "stdout",
     "output_type": "stream",
     "text": [
      "empty dataframe: 003868.OF.csv\n"
     ]
    },
    {
     "name": "stderr",
     "output_type": "stream",
     "text": [
      "100%|█████████▉| 1846/1850 [3:57:21<00:36,  9.11s/it]"
     ]
    },
    {
     "name": "stdout",
     "output_type": "stream",
     "text": [
      "empty dataframe: 003572.OF.csv\n"
     ]
    },
    {
     "name": "stderr",
     "output_type": "stream",
     "text": [
      "100%|██████████| 1850/1850 [3:57:29<00:00,  7.70s/it]\n"
     ]
    }
   ],
   "execution_count": 5
  },
  {
   "metadata": {},
   "cell_type": "markdown",
   "source": "# 计算基金高频久期",
   "id": "d56b04d93f9bceca"
  },
  {
   "metadata": {},
   "cell_type": "markdown",
   "source": "读取文件 `债券久期.xlsx`，重命名后保存到 `processed_indexes/分段久期指数.csv`",
   "id": "dd2b91ce2fe2b74a"
  },
  {
   "metadata": {
    "ExecuteTime": {
     "end_time": "2025-01-09T11:21:57.518870Z",
     "start_time": "2025-01-09T11:21:57.147216Z"
    }
   },
   "cell_type": "code",
   "source": [
    "import pandas as pd\n",
    "\n",
    "# 读取数据\n",
    "df = pd.read_excel('data/raw/债券久期.xlsx', header=1)\n",
    "\n",
    "dest_df = pd.DataFrame()\n",
    "dest_df['日期'] = df.iloc[:, 0]\n",
    "dest_df['1年以下'] = df['中债国开行债券总指数(1年以下)财富指数']\n",
    "dest_df['1-3年'] = df['中债-国开行债券总财富(1-3年)指数']\n",
    "dest_df['3-5年'] = df['中债-国开行债券总财富(3-5年)指数']\n",
    "dest_df['5-7年'] = df['中债-国开行债券总财富(5-7年)指数']\n",
    "dest_df['7-10年'] = df['中债-国开行债券总财富(7-10年)指数']\n",
    "dest_df['10年以上'] = df['中债国开行债券总指数(10年以上)财富指数']\n",
    "\n",
    "dest_df.to_csv('data/processed_indexes/分段久期指数.csv', index=False)"
   ],
   "id": "95f9c03343a6a533",
   "outputs": [],
   "execution_count": 6
  },
  {
   "metadata": {},
   "cell_type": "markdown",
   "source": "计算基金久期",
   "id": "20909a8b77dea225"
  },
  {
   "metadata": {
    "ExecuteTime": {
     "end_time": "2025-01-09T11:22:53.162704Z",
     "start_time": "2025-01-09T11:21:59.335001Z"
    }
   },
   "cell_type": "code",
   "source": [
    "from collections import defaultdict\n",
    "import pandas as pd\n",
    "import os\n",
    "from tqdm import tqdm\n",
    "\n",
    "duration_index = pd.read_csv('data/processed_indexes/分段久期指数.csv')\n",
    "\n",
    "\n",
    "result = pd.DataFrame()\n",
    "cache = {}\n",
    "# 读取数据\n",
    "for file_name in os.listdir('data/eda_beta/'):\n",
    "    df = pd.read_csv('data/eda_beta/' + file_name)\n",
    "    code = file_name[:-4]\n",
    "    cache[file_name] = df\n",
    "\n",
    "duration_index.set_index('日期', inplace=True)\n",
    "for df in cache.values():\n",
    "    df.set_index('日期', inplace=True)\n",
    "\n",
    "data = defaultdict(dict)\n",
    "for date in tqdm(pd.date_range('2010-01-04', '2024-11-27')):\n",
    "    date_str = date.strftime('%Y-%m-%d')\n",
    "    for code, df in cache.items():\n",
    "        if date_str in duration_index.index and date_str in df.index:\n",
    "            duration_row = duration_index.loc[date_str]\n",
    "            df_row = df.loc[date_str]\n",
    "            \n",
    "            duration = (\n",
    "                duration_row['1年以下'] * df_row['beta_1年以下'] +\n",
    "                duration_row['1-3年'] * df_row['beta_1-3年'] +\n",
    "                duration_row['3-5年'] * df_row['beta_3-5年'] +\n",
    "                duration_row['5-7年'] * df_row['beta_5-7年'] +\n",
    "                duration_row['7-10年'] * df_row['beta_7-10年'] +\n",
    "                duration_row['10年以上'] * df_row['beta_10年以上']\n",
    "            )\n",
    "            # 将结果存储到 result DataFrame 中\n",
    "            data[date_str][code] = duration\n",
    "\n",
    "result = pd.DataFrame.from_dict(data, orient='index')\n",
    "result = result.fillna(0)\n",
    "result.to_csv('data/eda_duration.csv')"
   ],
   "id": "8586a9cbd3319689",
   "outputs": [
    {
     "name": "stderr",
     "output_type": "stream",
     "text": [
      "100%|██████████| 5442/5442 [00:49<00:00, 110.43it/s]\n"
     ]
    }
   ],
   "execution_count": 7
  }
 ],
 "metadata": {
  "kernelspec": {
   "display_name": "Python 3",
   "language": "python",
   "name": "python3"
  },
  "language_info": {
   "codemirror_mode": {
    "name": "ipython",
    "version": 2
   },
   "file_extension": ".py",
   "mimetype": "text/x-python",
   "name": "python",
   "nbconvert_exporter": "python",
   "pygments_lexer": "ipython2",
   "version": "2.7.6"
  }
 },
 "nbformat": 4,
 "nbformat_minor": 5
}
